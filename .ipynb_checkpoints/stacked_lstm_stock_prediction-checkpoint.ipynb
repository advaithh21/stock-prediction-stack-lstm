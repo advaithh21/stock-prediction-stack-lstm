{
 "cells": [
  {
   "cell_type": "markdown",
   "metadata": {},
   "source": [
    "# Collect the data"
   ]
  },
  {
   "cell_type": "code",
   "execution_count": 48,
   "metadata": {},
   "outputs": [
    {
     "name": "stdout",
     "output_type": "stream",
     "text": [
      "Collecting tensorflow\n",
      "  Using cached tensorflow-2.11.0-cp37-cp37m-manylinux_2_17_x86_64.manylinux2014_x86_64.whl (588.3 MB)\n",
      "Collecting astunparse>=1.6.0\n",
      "  Using cached astunparse-1.6.3-py2.py3-none-any.whl (12 kB)\n",
      "Requirement already satisfied: numpy>=1.20 in /home/advaith/anaconda3/lib/python3.7/site-packages (from tensorflow) (1.21.6)\n",
      "Collecting termcolor>=1.1.0\n",
      "  Using cached termcolor-2.3.0-py3-none-any.whl (6.9 kB)\n",
      "Collecting wrapt>=1.11.0\n",
      "  Using cached wrapt-1.15.0-cp37-cp37m-manylinux_2_5_x86_64.manylinux1_x86_64.manylinux_2_17_x86_64.manylinux2014_x86_64.whl (75 kB)\n",
      "Requirement already satisfied: libclang>=13.0.0 in /home/advaith/anaconda3/lib/python3.7/site-packages (from tensorflow) (16.0.0)\n",
      "Collecting gast<=0.4.0,>=0.2.1\n",
      "  Using cached gast-0.4.0-py3-none-any.whl (9.8 kB)\n",
      "Collecting six>=1.12.0\n",
      "  Using cached six-1.16.0-py2.py3-none-any.whl (11 kB)\n",
      "Collecting keras<2.12,>=2.11.0\n",
      "  Using cached keras-2.11.0-py2.py3-none-any.whl (1.7 MB)\n",
      "Collecting h5py>=2.9.0\n",
      "  Using cached h5py-3.8.0-cp37-cp37m-manylinux_2_17_x86_64.manylinux2014_x86_64.whl (4.3 MB)\n",
      "Requirement already satisfied: typing-extensions>=3.6.6 in /home/advaith/anaconda3/lib/python3.7/site-packages (from tensorflow) (4.4.0)\n",
      "Requirement already satisfied: setuptools in /home/advaith/anaconda3/lib/python3.7/site-packages (from tensorflow) (65.6.3)\n",
      "Collecting opt-einsum>=2.3.2\n",
      "  Using cached opt_einsum-3.3.0-py3-none-any.whl (65 kB)\n",
      "Collecting tensorflow-estimator<2.12,>=2.11.0\n",
      "  Using cached tensorflow_estimator-2.11.0-py2.py3-none-any.whl (439 kB)\n",
      "Collecting tensorflow-io-gcs-filesystem>=0.23.1\n",
      "  Using cached tensorflow_io_gcs_filesystem-0.32.0-cp37-cp37m-manylinux_2_12_x86_64.manylinux2010_x86_64.whl (2.4 MB)\n",
      "Collecting tensorboard<2.12,>=2.11\n",
      "  Using cached tensorboard-2.11.2-py3-none-any.whl (6.0 MB)\n",
      "Collecting absl-py>=1.0.0\n",
      "  Using cached absl_py-1.4.0-py3-none-any.whl (126 kB)\n",
      "Requirement already satisfied: grpcio<2.0,>=1.24.3 in /home/advaith/anaconda3/lib/python3.7/site-packages (from tensorflow) (1.42.0)\n",
      "Requirement already satisfied: flatbuffers>=2.0 in /home/advaith/anaconda3/lib/python3.7/site-packages (from tensorflow) (23.5.26)\n",
      "Collecting google-pasta>=0.1.1\n",
      "  Using cached google_pasta-0.2.0-py3-none-any.whl (57 kB)\n",
      "Requirement already satisfied: packaging in /home/advaith/anaconda3/lib/python3.7/site-packages (from tensorflow) (23.0)\n",
      "Collecting protobuf<3.20,>=3.9.2\n",
      "  Using cached protobuf-3.19.6-cp37-cp37m-manylinux_2_17_x86_64.manylinux2014_x86_64.whl (1.1 MB)\n",
      "Requirement already satisfied: wheel<1.0,>=0.23.0 in /home/advaith/anaconda3/lib/python3.7/site-packages (from astunparse>=1.6.0->tensorflow) (0.37.1)\n",
      "Collecting google-auth-oauthlib<0.5,>=0.4.1\n",
      "  Using cached google_auth_oauthlib-0.4.6-py2.py3-none-any.whl (18 kB)\n",
      "Collecting werkzeug>=1.0.1\n",
      "  Using cached Werkzeug-2.2.3-py3-none-any.whl (233 kB)\n",
      "Requirement already satisfied: tensorboard-data-server<0.7.0,>=0.6.0 in /home/advaith/anaconda3/lib/python3.7/site-packages (from tensorboard<2.12,>=2.11->tensorflow) (0.6.1)\n",
      "Requirement already satisfied: markdown>=2.6.8 in /home/advaith/anaconda3/lib/python3.7/site-packages (from tensorboard<2.12,>=2.11->tensorflow) (3.4.1)\n",
      "Requirement already satisfied: tensorboard-plugin-wit>=1.6.0 in /home/advaith/anaconda3/lib/python3.7/site-packages (from tensorboard<2.12,>=2.11->tensorflow) (1.8.1)\n",
      "Requirement already satisfied: requests<3,>=2.21.0 in /home/advaith/anaconda3/lib/python3.7/site-packages (from tensorboard<2.12,>=2.11->tensorflow) (2.28.1)\n",
      "Requirement already satisfied: google-auth<3,>=1.6.3 in /home/advaith/anaconda3/lib/python3.7/site-packages (from tensorboard<2.12,>=2.11->tensorflow) (2.6.0)\n",
      "Requirement already satisfied: pyasn1-modules>=0.2.1 in /home/advaith/anaconda3/lib/python3.7/site-packages (from google-auth<3,>=1.6.3->tensorboard<2.12,>=2.11->tensorflow) (0.2.2)\n",
      "Requirement already satisfied: rsa<5,>=3.1.4 in /home/advaith/anaconda3/lib/python3.7/site-packages (from google-auth<3,>=1.6.3->tensorboard<2.12,>=2.11->tensorflow) (4.7.2)\n",
      "Requirement already satisfied: cachetools<6.0,>=2.0.0 in /home/advaith/anaconda3/lib/python3.7/site-packages (from google-auth<3,>=1.6.3->tensorboard<2.12,>=2.11->tensorflow) (4.2.2)\n",
      "Collecting requests-oauthlib>=0.7.0\n",
      "  Using cached requests_oauthlib-1.3.1-py2.py3-none-any.whl (23 kB)\n",
      "Requirement already satisfied: importlib-metadata>=4.4 in /home/advaith/anaconda3/lib/python3.7/site-packages (from markdown>=2.6.8->tensorboard<2.12,>=2.11->tensorflow) (4.11.3)\n",
      "Requirement already satisfied: certifi>=2017.4.17 in /home/advaith/anaconda3/lib/python3.7/site-packages (from requests<3,>=2.21.0->tensorboard<2.12,>=2.11->tensorflow) (2022.12.7)\n",
      "Requirement already satisfied: urllib3<1.27,>=1.21.1 in /home/advaith/anaconda3/lib/python3.7/site-packages (from requests<3,>=2.21.0->tensorboard<2.12,>=2.11->tensorflow) (1.26.13)\n",
      "Requirement already satisfied: charset-normalizer<3,>=2 in /home/advaith/anaconda3/lib/python3.7/site-packages (from requests<3,>=2.21.0->tensorboard<2.12,>=2.11->tensorflow) (2.0.4)\n",
      "Requirement already satisfied: idna<4,>=2.5 in /home/advaith/anaconda3/lib/python3.7/site-packages (from requests<3,>=2.21.0->tensorboard<2.12,>=2.11->tensorflow) (3.4)\n",
      "Collecting MarkupSafe>=2.1.1\n",
      "  Using cached MarkupSafe-2.1.3-cp37-cp37m-manylinux_2_17_x86_64.manylinux2014_x86_64.whl (25 kB)\n",
      "Requirement already satisfied: zipp>=0.5 in /home/advaith/anaconda3/lib/python3.7/site-packages (from importlib-metadata>=4.4->markdown>=2.6.8->tensorboard<2.12,>=2.11->tensorflow) (3.11.0)\n",
      "Requirement already satisfied: pyasn1<0.5.0,>=0.4.1 in /home/advaith/anaconda3/lib/python3.7/site-packages (from pyasn1-modules>=0.2.1->google-auth<3,>=1.6.3->tensorboard<2.12,>=2.11->tensorflow) (0.4.4)\n",
      "Collecting oauthlib>=3.0.0\n",
      "  Using cached oauthlib-3.2.2-py3-none-any.whl (151 kB)\n",
      "Installing collected packages: wrapt, termcolor, tensorflow-io-gcs-filesystem, tensorflow-estimator, six, protobuf, opt-einsum, oauthlib, MarkupSafe, keras, h5py, gast, absl-py, werkzeug, requests-oauthlib, google-pasta, astunparse, google-auth-oauthlib, tensorboard, tensorflow\n",
      "  Attempting uninstall: wrapt\n",
      "    Found existing installation: wrapt 1.10.11\n",
      "\u001b[31mERROR: Cannot uninstall 'wrapt'. It is a distutils installed project and thus we cannot accurately determine which files belong to it which would lead to only a partial uninstall.\u001b[0m\u001b[31m\n",
      "\u001b[0m"
     ]
    }
   ],
   "source": [
    "!pip install tensorflow"
   ]
  },
  {
   "cell_type": "code",
   "execution_count": 1,
   "metadata": {},
   "outputs": [],
   "source": [
    "import pandas_datareader as pdr\n",
    "key = '7a01fa55548f6dced7e8f932ce0c065a4ca16038'"
   ]
  },
  {
   "cell_type": "code",
   "execution_count": 2,
   "metadata": {},
   "outputs": [
    {
     "name": "stderr",
     "output_type": "stream",
     "text": [
      "/home/advaith/anaconda3/lib/python3.7/site-packages/pandas_datareader/tiingo.py:234: FutureWarning: In a future version of pandas all arguments of concat except for the argument 'objs' will be keyword-only\n",
      "  return pd.concat(dfs, self._concat_axis)\n"
     ]
    }
   ],
   "source": [
    "df = pdr.get_data_tiingo('AAPL', api_key = key)"
   ]
  },
  {
   "cell_type": "code",
   "execution_count": 4,
   "metadata": {},
   "outputs": [],
   "source": [
    "df.to_csv('AAPL.csv')"
   ]
  },
  {
   "cell_type": "code",
   "execution_count": 5,
   "metadata": {},
   "outputs": [],
   "source": [
    "import pandas as pd"
   ]
  },
  {
   "cell_type": "code",
   "execution_count": 6,
   "metadata": {},
   "outputs": [],
   "source": [
    "df = pd.read_csv('AAPL.csv')"
   ]
  },
  {
   "cell_type": "code",
   "execution_count": 7,
   "metadata": {},
   "outputs": [
    {
     "data": {
      "text/html": [
       "<div>\n",
       "<style scoped>\n",
       "    .dataframe tbody tr th:only-of-type {\n",
       "        vertical-align: middle;\n",
       "    }\n",
       "\n",
       "    .dataframe tbody tr th {\n",
       "        vertical-align: top;\n",
       "    }\n",
       "\n",
       "    .dataframe thead th {\n",
       "        text-align: right;\n",
       "    }\n",
       "</style>\n",
       "<table border=\"1\" class=\"dataframe\">\n",
       "  <thead>\n",
       "    <tr style=\"text-align: right;\">\n",
       "      <th></th>\n",
       "      <th>symbol</th>\n",
       "      <th>date</th>\n",
       "      <th>close</th>\n",
       "      <th>high</th>\n",
       "      <th>low</th>\n",
       "      <th>open</th>\n",
       "      <th>volume</th>\n",
       "      <th>adjClose</th>\n",
       "      <th>adjHigh</th>\n",
       "      <th>adjLow</th>\n",
       "      <th>adjOpen</th>\n",
       "      <th>adjVolume</th>\n",
       "      <th>divCash</th>\n",
       "      <th>splitFactor</th>\n",
       "    </tr>\n",
       "  </thead>\n",
       "  <tbody>\n",
       "    <tr>\n",
       "      <th>0</th>\n",
       "      <td>AAPL</td>\n",
       "      <td>2018-06-28 00:00:00+00:00</td>\n",
       "      <td>185.50</td>\n",
       "      <td>186.21</td>\n",
       "      <td>183.80</td>\n",
       "      <td>184.10</td>\n",
       "      <td>17365235</td>\n",
       "      <td>44.315707</td>\n",
       "      <td>44.485326</td>\n",
       "      <td>43.909580</td>\n",
       "      <td>43.981249</td>\n",
       "      <td>69460940</td>\n",
       "      <td>0.0</td>\n",
       "      <td>1.0</td>\n",
       "    </tr>\n",
       "    <tr>\n",
       "      <th>1</th>\n",
       "      <td>AAPL</td>\n",
       "      <td>2018-06-29 00:00:00+00:00</td>\n",
       "      <td>185.11</td>\n",
       "      <td>187.19</td>\n",
       "      <td>182.91</td>\n",
       "      <td>186.29</td>\n",
       "      <td>22737666</td>\n",
       "      <td>44.222537</td>\n",
       "      <td>44.719446</td>\n",
       "      <td>43.696960</td>\n",
       "      <td>44.504437</td>\n",
       "      <td>90950664</td>\n",
       "      <td>0.0</td>\n",
       "      <td>1.0</td>\n",
       "    </tr>\n",
       "    <tr>\n",
       "      <th>2</th>\n",
       "      <td>AAPL</td>\n",
       "      <td>2018-07-02 00:00:00+00:00</td>\n",
       "      <td>187.18</td>\n",
       "      <td>187.30</td>\n",
       "      <td>183.42</td>\n",
       "      <td>183.82</td>\n",
       "      <td>17731343</td>\n",
       "      <td>44.717057</td>\n",
       "      <td>44.745725</td>\n",
       "      <td>43.818798</td>\n",
       "      <td>43.914358</td>\n",
       "      <td>70925372</td>\n",
       "      <td>0.0</td>\n",
       "      <td>1.0</td>\n",
       "    </tr>\n",
       "    <tr>\n",
       "      <th>3</th>\n",
       "      <td>AAPL</td>\n",
       "      <td>2018-07-03 00:00:00+00:00</td>\n",
       "      <td>183.92</td>\n",
       "      <td>187.95</td>\n",
       "      <td>183.54</td>\n",
       "      <td>187.79</td>\n",
       "      <td>13954806</td>\n",
       "      <td>43.938248</td>\n",
       "      <td>44.901009</td>\n",
       "      <td>43.847466</td>\n",
       "      <td>44.862785</td>\n",
       "      <td>55819224</td>\n",
       "      <td>0.0</td>\n",
       "      <td>1.0</td>\n",
       "    </tr>\n",
       "    <tr>\n",
       "      <th>4</th>\n",
       "      <td>AAPL</td>\n",
       "      <td>2018-07-05 00:00:00+00:00</td>\n",
       "      <td>185.40</td>\n",
       "      <td>186.41</td>\n",
       "      <td>184.28</td>\n",
       "      <td>185.26</td>\n",
       "      <td>16604248</td>\n",
       "      <td>44.291818</td>\n",
       "      <td>44.533105</td>\n",
       "      <td>44.024251</td>\n",
       "      <td>44.258372</td>\n",
       "      <td>66416992</td>\n",
       "      <td>0.0</td>\n",
       "      <td>1.0</td>\n",
       "    </tr>\n",
       "  </tbody>\n",
       "</table>\n",
       "</div>"
      ],
      "text/plain": [
       "  symbol                       date   close    high     low    open    volume  \\\n",
       "0   AAPL  2018-06-28 00:00:00+00:00  185.50  186.21  183.80  184.10  17365235   \n",
       "1   AAPL  2018-06-29 00:00:00+00:00  185.11  187.19  182.91  186.29  22737666   \n",
       "2   AAPL  2018-07-02 00:00:00+00:00  187.18  187.30  183.42  183.82  17731343   \n",
       "3   AAPL  2018-07-03 00:00:00+00:00  183.92  187.95  183.54  187.79  13954806   \n",
       "4   AAPL  2018-07-05 00:00:00+00:00  185.40  186.41  184.28  185.26  16604248   \n",
       "\n",
       "    adjClose    adjHigh     adjLow    adjOpen  adjVolume  divCash  splitFactor  \n",
       "0  44.315707  44.485326  43.909580  43.981249   69460940      0.0          1.0  \n",
       "1  44.222537  44.719446  43.696960  44.504437   90950664      0.0          1.0  \n",
       "2  44.717057  44.745725  43.818798  43.914358   70925372      0.0          1.0  \n",
       "3  43.938248  44.901009  43.847466  44.862785   55819224      0.0          1.0  \n",
       "4  44.291818  44.533105  44.024251  44.258372   66416992      0.0          1.0  "
      ]
     },
     "execution_count": 7,
     "metadata": {},
     "output_type": "execute_result"
    }
   ],
   "source": [
    "df.head()"
   ]
  },
  {
   "cell_type": "code",
   "execution_count": 8,
   "metadata": {},
   "outputs": [
    {
     "data": {
      "text/html": [
       "<div>\n",
       "<style scoped>\n",
       "    .dataframe tbody tr th:only-of-type {\n",
       "        vertical-align: middle;\n",
       "    }\n",
       "\n",
       "    .dataframe tbody tr th {\n",
       "        vertical-align: top;\n",
       "    }\n",
       "\n",
       "    .dataframe thead th {\n",
       "        text-align: right;\n",
       "    }\n",
       "</style>\n",
       "<table border=\"1\" class=\"dataframe\">\n",
       "  <thead>\n",
       "    <tr style=\"text-align: right;\">\n",
       "      <th></th>\n",
       "      <th>symbol</th>\n",
       "      <th>date</th>\n",
       "      <th>close</th>\n",
       "      <th>high</th>\n",
       "      <th>low</th>\n",
       "      <th>open</th>\n",
       "      <th>volume</th>\n",
       "      <th>adjClose</th>\n",
       "      <th>adjHigh</th>\n",
       "      <th>adjLow</th>\n",
       "      <th>adjOpen</th>\n",
       "      <th>adjVolume</th>\n",
       "      <th>divCash</th>\n",
       "      <th>splitFactor</th>\n",
       "    </tr>\n",
       "  </thead>\n",
       "  <tbody>\n",
       "    <tr>\n",
       "      <th>1251</th>\n",
       "      <td>AAPL</td>\n",
       "      <td>2023-06-20 00:00:00+00:00</td>\n",
       "      <td>185.01</td>\n",
       "      <td>186.100</td>\n",
       "      <td>184.4100</td>\n",
       "      <td>184.41</td>\n",
       "      <td>49799092</td>\n",
       "      <td>185.01</td>\n",
       "      <td>186.100</td>\n",
       "      <td>184.4100</td>\n",
       "      <td>184.41</td>\n",
       "      <td>49799092</td>\n",
       "      <td>0.0</td>\n",
       "      <td>1.0</td>\n",
       "    </tr>\n",
       "    <tr>\n",
       "      <th>1252</th>\n",
       "      <td>AAPL</td>\n",
       "      <td>2023-06-21 00:00:00+00:00</td>\n",
       "      <td>183.96</td>\n",
       "      <td>185.410</td>\n",
       "      <td>182.5901</td>\n",
       "      <td>184.90</td>\n",
       "      <td>49515697</td>\n",
       "      <td>183.96</td>\n",
       "      <td>185.410</td>\n",
       "      <td>182.5901</td>\n",
       "      <td>184.90</td>\n",
       "      <td>49515697</td>\n",
       "      <td>0.0</td>\n",
       "      <td>1.0</td>\n",
       "    </tr>\n",
       "    <tr>\n",
       "      <th>1253</th>\n",
       "      <td>AAPL</td>\n",
       "      <td>2023-06-22 00:00:00+00:00</td>\n",
       "      <td>187.00</td>\n",
       "      <td>187.045</td>\n",
       "      <td>183.6700</td>\n",
       "      <td>183.74</td>\n",
       "      <td>51245327</td>\n",
       "      <td>187.00</td>\n",
       "      <td>187.045</td>\n",
       "      <td>183.6700</td>\n",
       "      <td>183.74</td>\n",
       "      <td>51245327</td>\n",
       "      <td>0.0</td>\n",
       "      <td>1.0</td>\n",
       "    </tr>\n",
       "    <tr>\n",
       "      <th>1254</th>\n",
       "      <td>AAPL</td>\n",
       "      <td>2023-06-23 00:00:00+00:00</td>\n",
       "      <td>186.68</td>\n",
       "      <td>187.560</td>\n",
       "      <td>185.0100</td>\n",
       "      <td>185.55</td>\n",
       "      <td>53116996</td>\n",
       "      <td>186.68</td>\n",
       "      <td>187.560</td>\n",
       "      <td>185.0100</td>\n",
       "      <td>185.55</td>\n",
       "      <td>53116996</td>\n",
       "      <td>0.0</td>\n",
       "      <td>1.0</td>\n",
       "    </tr>\n",
       "    <tr>\n",
       "      <th>1255</th>\n",
       "      <td>AAPL</td>\n",
       "      <td>2023-06-26 00:00:00+00:00</td>\n",
       "      <td>185.27</td>\n",
       "      <td>188.050</td>\n",
       "      <td>185.2300</td>\n",
       "      <td>186.83</td>\n",
       "      <td>48088661</td>\n",
       "      <td>185.27</td>\n",
       "      <td>188.050</td>\n",
       "      <td>185.2300</td>\n",
       "      <td>186.83</td>\n",
       "      <td>48088661</td>\n",
       "      <td>0.0</td>\n",
       "      <td>1.0</td>\n",
       "    </tr>\n",
       "  </tbody>\n",
       "</table>\n",
       "</div>"
      ],
      "text/plain": [
       "     symbol                       date   close     high       low    open  \\\n",
       "1251   AAPL  2023-06-20 00:00:00+00:00  185.01  186.100  184.4100  184.41   \n",
       "1252   AAPL  2023-06-21 00:00:00+00:00  183.96  185.410  182.5901  184.90   \n",
       "1253   AAPL  2023-06-22 00:00:00+00:00  187.00  187.045  183.6700  183.74   \n",
       "1254   AAPL  2023-06-23 00:00:00+00:00  186.68  187.560  185.0100  185.55   \n",
       "1255   AAPL  2023-06-26 00:00:00+00:00  185.27  188.050  185.2300  186.83   \n",
       "\n",
       "        volume  adjClose  adjHigh    adjLow  adjOpen  adjVolume  divCash  \\\n",
       "1251  49799092    185.01  186.100  184.4100   184.41   49799092      0.0   \n",
       "1252  49515697    183.96  185.410  182.5901   184.90   49515697      0.0   \n",
       "1253  51245327    187.00  187.045  183.6700   183.74   51245327      0.0   \n",
       "1254  53116996    186.68  187.560  185.0100   185.55   53116996      0.0   \n",
       "1255  48088661    185.27  188.050  185.2300   186.83   48088661      0.0   \n",
       "\n",
       "      splitFactor  \n",
       "1251          1.0  \n",
       "1252          1.0  \n",
       "1253          1.0  \n",
       "1254          1.0  \n",
       "1255          1.0  "
      ]
     },
     "execution_count": 8,
     "metadata": {},
     "output_type": "execute_result"
    }
   ],
   "source": [
    "df.tail()"
   ]
  },
  {
   "cell_type": "code",
   "execution_count": 9,
   "metadata": {},
   "outputs": [],
   "source": [
    "df1= df.reset_index()['close']"
   ]
  },
  {
   "cell_type": "code",
   "execution_count": 11,
   "metadata": {},
   "outputs": [],
   "source": [
    "import matplotlib.pyplot as plt"
   ]
  },
  {
   "cell_type": "code",
   "execution_count": 12,
   "metadata": {},
   "outputs": [
    {
     "data": {
      "text/plain": [
       "[<matplotlib.lines.Line2D at 0x7f865345e250>]"
      ]
     },
     "execution_count": 12,
     "metadata": {},
     "output_type": "execute_result"
    },
    {
     "data": {
      "image/png": "[encoded data removed]",
      "text/plain": [
       "<Figure size 432x288 with 1 Axes>"
      ]
     },
     "metadata": {
      "needs_background": "light"
     },
     "output_type": "display_data"
    }
   ],
   "source": [
    "plt.plot(df1)"
   ]
  },
  {
   "cell_type": "code",
   "execution_count": 14,
   "metadata": {},
   "outputs": [
    {
     "data": {
      "text/plain": [
       "(1256,)"
      ]
     },
     "execution_count": 14,
     "metadata": {},
     "output_type": "execute_result"
    }
   ],
   "source": [
    "df1.shape"
   ]
  },
  {
   "cell_type": "code",
   "execution_count": 15,
   "metadata": {},
   "outputs": [],
   "source": [
    "import numpy as np"
   ]
  },
  {
   "cell_type": "code",
   "execution_count": 19,
   "metadata": {},
   "outputs": [],
   "source": [
    "from sklearn.preprocessing import MinMaxScaler\n",
    "scaler = MinMaxScaler(feature_range= (0,1))\n",
    "df1 = scaler.fit_transform(np.array(df1).reshape(-1, 1))"
   ]
  },
  {
   "cell_type": "code",
   "execution_count": 23,
   "metadata": {},
   "outputs": [
    {
     "data": {
      "text/plain": [
       "array([[0.19701941],\n",
       "       [0.19604258],\n",
       "       [0.2012273 ],\n",
       "       ...,\n",
       "       [0.20077646],\n",
       "       [0.19997495],\n",
       "       [0.19644333]])"
      ]
     },
     "execution_count": 23,
     "metadata": {},
     "output_type": "execute_result"
    }
   ],
   "source": [
    "df1"
   ]
  },
  {
   "cell_type": "markdown",
   "metadata": {},
   "source": [
    "# Preprocess the data"
   ]
  },
  {
   "cell_type": "code",
   "execution_count": 28,
   "metadata": {},
   "outputs": [],
   "source": [
    "##splitting the dataset\n",
    "training_size = int(len(df1)*0.65)\n",
    "test_size = len(df1) - training_size\n",
    "train_data, test_data = df1[0:training_size,:], df1[training_size:len(df1), :1]"
   ]
  },
  {
   "cell_type": "code",
   "execution_count": 30,
   "metadata": {},
   "outputs": [
    {
     "data": {
      "text/plain": [
       "(816, 440)"
      ]
     },
     "execution_count": 30,
     "metadata": {},
     "output_type": "execute_result"
    }
   ],
   "source": [
    "training_size, test_size"
   ]
  },
  {
   "cell_type": "code",
   "execution_count": 39,
   "metadata": {},
   "outputs": [],
   "source": [
    "def create_dataset(dataset, time_step = 1):\n",
    "    dataX, dataY = [],[]\n",
    "    for i in range(len(dataset) - time_step-1):\n",
    "        a = dataset[i:(i+time_step), 0]\n",
    "        dataX.append(a)\n",
    "        dataY.append(dataset[i+time_step, 0])\n",
    "    return np.array(dataX), np.array(dataY)"
   ]
  },
  {
   "cell_type": "code",
   "execution_count": 40,
   "metadata": {},
   "outputs": [],
   "source": [
    "time_step = 100\n",
    "X_train, y_train = create_dataset(train_data, time_step)\n",
    "X_test, y_test = create_dataset(test_data, time_step)"
   ]
  },
  {
   "cell_type": "code",
   "execution_count": 41,
   "metadata": {},
   "outputs": [
    {
     "data": {
      "text/plain": [
       "array([[0.19701941, 0.19604258, 0.2012273 , ..., 0.20027552, 0.21182217,\n",
       "        0.21713212],\n",
       "       [0.19604258, 0.2012273 , 0.19306199, ..., 0.21182217, 0.21713212,\n",
       "        0.1979211 ],\n",
       "       [0.2012273 , 0.19306199, 0.19676894, ..., 0.21713212, 0.1979211 ,\n",
       "        0.1756794 ],\n",
       "       ...,\n",
       "       [0.06697558, 0.06672511, 0.06166562, ..., 0.10567314, 0.10507201,\n",
       "        0.09823419],\n",
       "       [0.06672511, 0.06166562, 0.0643707 , ..., 0.10507201, 0.09823419,\n",
       "        0.09041954],\n",
       "       [0.06166562, 0.0643707 , 0.05262367, ..., 0.09823419, 0.09041954,\n",
       "        0.09164684]])"
      ]
     },
     "execution_count": 41,
     "metadata": {},
     "output_type": "execute_result"
    }
   ],
   "source": [
    "X_train"
   ]
  },
  {
   "cell_type": "code",
   "execution_count": 42,
   "metadata": {},
   "outputs": [
    {
     "data": {
      "text/plain": [
       "array([1.97921102e-01, 1.75679399e-01, 1.75178460e-01, 1.63932373e-01,\n",
       "       1.69768316e-01, 1.68816531e-01, 1.85597996e-01, 1.82116468e-01,\n",
       "       1.79686913e-01, 1.95316218e-01, 1.74953037e-01, 1.70018785e-01,\n",
       "       1.54414527e-01, 1.57194740e-01, 1.54765185e-01, 1.55942392e-01,\n",
       "       1.60576080e-01, 1.46875391e-01, 1.43018159e-01, 1.48353162e-01,\n",
       "       1.35378835e-01, 1.25209768e-01, 1.09931121e-01, 1.00162805e-01,\n",
       "       1.26061365e-01, 1.23506575e-01, 1.23706951e-01, 1.27489042e-01,\n",
       "       1.27939887e-01, 8.85410144e-02, 1.03744521e-01, 1.02917971e-01,\n",
       "       1.09981215e-01, 1.16393237e-01, 1.17620539e-01, 1.13838447e-01,\n",
       "       1.08102693e-01, 1.15792110e-01, 1.20475892e-01, 1.22780213e-01,\n",
       "       1.25184721e-01, 1.16368190e-01, 1.17921102e-01, 1.14865373e-01,\n",
       "       1.27539136e-01, 1.23882279e-01, 1.19824671e-01, 1.46299311e-01,\n",
       "       1.49279900e-01, 1.49480276e-01, 1.61327489e-01, 1.68666249e-01,\n",
       "       1.68816531e-01, 1.60551033e-01, 1.59223544e-01, 1.56768942e-01,\n",
       "       1.60425798e-01, 1.58647464e-01, 1.60200376e-01, 1.59248591e-01,\n",
       "       1.60525986e-01, 1.63281152e-01, 1.60851597e-01, 1.65635567e-01,\n",
       "       1.68791484e-01, 1.69041954e-01, 1.70394490e-01, 1.66086412e-01,\n",
       "       1.70644959e-01, 1.72849092e-01, 1.72047589e-01, 1.69517846e-01,\n",
       "       1.64458359e-01, 1.65485285e-01, 1.80488416e-01, 1.85522855e-01,\n",
       "       1.87526612e-01, 1.92586099e-01, 1.98572323e-01, 2.03331246e-01,\n",
       "       1.99599249e-01, 2.03681904e-01, 2.21039449e-01, 2.10920476e-01,\n",
       "       2.05134627e-01, 2.00250470e-01, 2.04458359e-01, 2.05084534e-01,\n",
       "       2.08165310e-01, 2.11396368e-01, 2.18359424e-01, 2.21690670e-01,\n",
       "       2.22542267e-01, 2.25823419e-01, 2.33587977e-01, 2.32085160e-01,\n",
       "       2.34890420e-01, 2.30707577e-01, 2.30507201e-01, 2.31408892e-01,\n",
       "       2.31458986e-01, 2.41177207e-01, 2.43005636e-01, 2.44683782e-01,\n",
       "       2.52072636e-01, 2.51271133e-01, 2.46562304e-01, 2.44107702e-01,\n",
       "       2.44884158e-01, 2.35015654e-01, 2.59686913e-01, 2.56255479e-01,\n",
       "       2.62767689e-01, 2.54577332e-01, 2.40500939e-01, 2.40601127e-01,\n",
       "       2.35140889e-01, 2.26274264e-01, 1.97570445e-01, 2.04934252e-01,\n",
       "       2.10594865e-01, 2.08490920e-01, 2.05785848e-01, 1.90983093e-01,\n",
       "       1.99774577e-01, 1.90206637e-01, 1.82391985e-01, 1.80663745e-01,\n",
       "       1.78810269e-01, 1.76681277e-01, 1.78985598e-01, 1.70895429e-01,\n",
       "       1.66462116e-01, 1.82341891e-01, 1.89605510e-01, 1.96318096e-01,\n",
       "       2.08666249e-01, 2.14752661e-01, 2.20338134e-01, 2.18785222e-01,\n",
       "       2.18685034e-01, 2.15153413e-01, 2.18033813e-01, 2.29455229e-01,\n",
       "       2.28002505e-01, 2.31984972e-01, 2.30281778e-01, 2.29780839e-01,\n",
       "       2.22241703e-01, 2.32836569e-01, 2.32686287e-01, 2.28127740e-01,\n",
       "       2.37219787e-01, 2.40175329e-01, 2.44383219e-01, 2.43932373e-01,\n",
       "       2.33387602e-01, 2.36443331e-01, 2.41427677e-01, 2.37720726e-01,\n",
       "       2.41603006e-01, 2.46386976e-01, 2.44608641e-01, 2.41728240e-01,\n",
       "       2.47514089e-01, 2.39824671e-01, 2.51421415e-01, 2.55479023e-01,\n",
       "       2.55053225e-01, 2.50920476e-01, 2.52723857e-01, 2.57582968e-01,\n",
       "       2.55328741e-01, 2.65998748e-01, 2.54452098e-01, 2.43406387e-01,\n",
       "       2.16656230e-01, 2.25823419e-01, 2.30932999e-01, 2.41928616e-01,\n",
       "       2.35817157e-01, 2.34539762e-01, 2.55804634e-01, 2.40225423e-01,\n",
       "       2.37695679e-01, 2.49618034e-01, 2.59261115e-01, 2.59286162e-01,\n",
       "       2.64996869e-01, 2.64546024e-01, 2.39949906e-01, 2.49592987e-01,\n",
       "       2.43757044e-01, 2.47188478e-01, 2.55904822e-01, 2.55228554e-01,\n",
       "       2.47614277e-01, 2.56355667e-01, 2.66599875e-01, 2.66549781e-01,\n",
       "       2.68829054e-01, 2.75165936e-01, 2.92423294e-01, 2.91170946e-01,\n",
       "       2.80300564e-01, 2.83180964e-01, 2.85184721e-01, 2.90369443e-01,\n",
       "       2.85835942e-01, 2.77745773e-01, 2.80225423e-01, 2.77620539e-01,\n",
       "       2.86011271e-01, 2.83155917e-01, 2.80475892e-01, 2.93375078e-01,\n",
       "       2.94927990e-01, 2.80826550e-01, 2.85485285e-01, 3.00989355e-01,\n",
       "       3.01114590e-01, 2.94452098e-01, 3.01039449e-01, 3.08703820e-01,\n",
       "       3.24032561e-01, 3.23180964e-01, 3.21803381e-01, 3.19423920e-01,\n",
       "       3.21703193e-01, 3.24533500e-01, 3.34802755e-01, 3.33425172e-01,\n",
       "       3.41490294e-01, 3.42492173e-01, 3.50006262e-01, 3.56192862e-01,\n",
       "       3.41765811e-01, 3.41690670e-01, 3.55466500e-01, 3.73149656e-01,\n",
       "       3.77357545e-01, 3.76430808e-01, 3.76706324e-01, 3.82191609e-01,\n",
       "       3.83969944e-01, 3.89129618e-01, 3.88528491e-01, 3.94815279e-01,\n",
       "       3.90231684e-01, 3.98046337e-01, 4.01402630e-01, 3.99373826e-01,\n",
       "       3.91609267e-01, 3.88653726e-01, 3.88077646e-01, 3.99574202e-01,\n",
       "       3.94364433e-01, 4.03256105e-01, 4.01778334e-01, 3.94038823e-01,\n",
       "       3.82241703e-01, 3.87977458e-01, 3.97595492e-01, 4.10444584e-01,\n",
       "       4.00951785e-01, 4.04859111e-01, 4.10594865e-01, 4.12323106e-01,\n",
       "       4.21565435e-01, 4.33362555e-01, 4.34740138e-01, 4.33061991e-01,\n",
       "       4.33763306e-01, 4.32310582e-01, 4.43731997e-01, 4.44408265e-01,\n",
       "       4.58534753e-01, 4.58259236e-01, 4.62567314e-01, 4.67902317e-01,\n",
       "       4.84683782e-01, 4.77370069e-01, 4.83306199e-01, 4.79774577e-01,\n",
       "       4.91797120e-01, 5.07927364e-01, 5.09680651e-01, 5.26286788e-01,\n",
       "       5.15566688e-01, 5.12210394e-01, 5.21978710e-01, 5.30720100e-01,\n",
       "       5.25309956e-01, 5.28140263e-01, 5.31972448e-01, 5.29668128e-01,\n",
       "       5.06224170e-01, 5.28115216e-01, 5.44771446e-01, 5.43594239e-01,\n",
       "       5.07626800e-01, 5.05497808e-01, 5.31020664e-01, 5.37532874e-01,\n",
       "       5.46950532e-01, 5.33976205e-01, 5.37783344e-01, 5.32924233e-01,\n",
       "       5.51934878e-01, 5.46098936e-01, 5.46299311e-01, 5.31396368e-01,\n",
       "       5.42968065e-01, 5.34652473e-01, 5.16493425e-01, 4.79248591e-01,\n",
       "       4.53951158e-01, 4.65397621e-01, 4.17482780e-01, 4.17082029e-01,\n",
       "       4.80826550e-01, 4.57056982e-01, 4.90670006e-01, 4.66073889e-01,\n",
       "       4.56330620e-01, 3.99073262e-01, 4.47088291e-01, 4.22266750e-01,\n",
       "       3.54139011e-01, 4.28628679e-01, 3.39060739e-01, 3.65735755e-01,\n",
       "       3.50231684e-01, 3.45497808e-01, 3.06574828e-01, 2.94376957e-01,\n",
       "       3.50757671e-01, 3.47351284e-01, 3.79711960e-01, 3.52911709e-01,\n",
       "       3.70619912e-01, 3.69317470e-01, 3.35804634e-01, 3.45873513e-01,\n",
       "       3.37056982e-01, 3.89805886e-01, 3.82191609e-01, 3.98822793e-01,\n",
       "       4.03631810e-01, 4.16806512e-01, 4.51371321e-01, 4.44809017e-01,\n",
       "       4.50469631e-01, 4.40726362e-01, 4.26023795e-01, 4.04583594e-01,\n",
       "       4.23944897e-01, 4.21264872e-01, 4.41152160e-01, 4.41653100e-01,\n",
       "       4.30156544e-01, 4.53074515e-01, 4.68278021e-01, 4.56430808e-01,\n",
       "       4.66675016e-01, 4.77695679e-01, 4.85385097e-01, 4.93174703e-01,\n",
       "       5.09179712e-01, 5.21402630e-01, 5.12385723e-01, 5.02968065e-01,\n",
       "       5.07701941e-01, 5.03118347e-01, 5.21277395e-01, 5.16718848e-01,\n",
       "       5.31972448e-01, 5.26011271e-01, 5.31120852e-01, 5.25710708e-01,\n",
       "       5.29167188e-01, 5.29517846e-01, 5.28741390e-01, 5.38534753e-01,\n",
       "       5.42266750e-01, 5.46725110e-01, 5.39711960e-01, 5.62705072e-01,\n",
       "       5.67614277e-01, 5.93988729e-01, 6.16155291e-01, 5.73725736e-01,\n",
       "       5.80989355e-01, 5.91484033e-01, 6.14251722e-01, 6.13024421e-01,\n",
       "       6.13375078e-01, 6.08340639e-01, 6.31258610e-01, 6.50444584e-01,\n",
       "       6.34239198e-01, 6.46211647e-01, 6.18134001e-01, 6.38547276e-01,\n",
       "       6.46111459e-01, 6.44383219e-01, 6.44383219e-01, 6.68778961e-01,\n",
       "       6.65873513e-01, 6.87614277e-01, 6.91721979e-01, 6.93400125e-01,\n",
       "       6.88966813e-01, 7.04796493e-01, 7.11484033e-01, 6.99436443e-01,\n",
       "       6.97482780e-01, 7.17820914e-01, 7.04220413e-01, 7.06950532e-01,\n",
       "       6.62592361e-01, 6.60288040e-01, 6.82279274e-01, 6.66675016e-01,\n",
       "       6.84583594e-01, 6.96105197e-01, 7.96994364e-01, 8.23819662e-01,\n",
       "       8.31108328e-01, 8.35090795e-01, 8.73562930e-01, 8.45610520e-01,\n",
       "       8.61790858e-01, 8.28202880e-01, 8.64621165e-01, 8.84658735e-01,\n",
       "       8.83631810e-01, 8.80626174e-01, 8.90194114e-01, 8.91646838e-01,\n",
       "       9.17370069e-01, 9.78434565e-01, 9.93337508e-01, 9.82993112e-01,\n",
       "       1.00000000e+00, 9.84846587e-01, 9.82817783e-01, 5.56042580e-02,\n",
       "       6.84783970e-02, 6.15153413e-02, 3.51659361e-02, 3.53663118e-02,\n",
       "       1.49780839e-02, 2.62492173e-02, 1.66562304e-02, 1.29242329e-02,\n",
       "       2.13274890e-02, 2.17908579e-02, 1.32498435e-02, 8.76643707e-03,\n",
       "       0.00000000e+00, 8.11521603e-03, 1.24483406e-02, 7.01314966e-04,\n",
       "       3.45648090e-03, 1.36255479e-02, 2.03381340e-02, 1.81590482e-02,\n",
       "       2.24671259e-02, 2.49217282e-02, 1.54790232e-02, 2.41953663e-02,\n",
       "       1.58296807e-02, 2.06386976e-02, 2.03631810e-02, 2.53725736e-02,\n",
       "       4.39824671e-02, 3.57169693e-02, 3.59423920e-02, 3.47401378e-02,\n",
       "       3.05072010e-02, 2.28929242e-02, 2.67251096e-02, 2.51221039e-02,\n",
       "       2.23168441e-02, 2.05385097e-02, 2.05635567e-02, 2.44458359e-02,\n",
       "       1.09204759e-02, 2.12398247e-02, 5.05948654e-03, 4.83406387e-03,\n",
       "       9.01690670e-03, 2.03130870e-02, 3.05322480e-02, 2.96806512e-02,\n",
       "       2.37445210e-02, 2.28678773e-02, 3.16844083e-02, 3.09830933e-02,\n",
       "       3.11083281e-02, 3.37132123e-02, 3.14339386e-02, 2.80275517e-02,\n",
       "       2.95554164e-02, 2.62993112e-02, 1.75579211e-02, 2.08641202e-02,\n",
       "       2.30181590e-02, 2.44207890e-02, 3.05823419e-02, 3.97745773e-02,\n",
       "       4.06762680e-02, 4.03256105e-02, 3.85973701e-02, 4.23544145e-02,\n",
       "       4.39323732e-02, 3.74201628e-02, 4.10770194e-02, 3.89981215e-02,\n",
       "       3.74201628e-02, 5.26988103e-02, 5.25234815e-02, 5.47526612e-02,\n",
       "       4.96305573e-02, 5.35754540e-02, 6.27175955e-02, 6.04132749e-02,\n",
       "       6.29430182e-02, 7.47651847e-02, 7.02066374e-02, 6.73262367e-02,\n",
       "       6.47463995e-02, 5.65309956e-02, 6.05385097e-02, 4.94927990e-02,\n",
       "       6.03130870e-02, 6.31433939e-02, 5.54539762e-02, 5.50031309e-02,\n",
       "       6.02379461e-02, 5.52786475e-02, 5.08453350e-02, 5.25735755e-02,\n",
       "       6.30932999e-02, 7.52160301e-02, 8.07263619e-02, 9.03694427e-02,\n",
       "       9.09705698e-02, 8.82154039e-02, 7.57670632e-02, 6.29179712e-02,\n",
       "       6.83782091e-02, 7.05072010e-02, 6.78772699e-02, 7.65184721e-02,\n",
       "       7.49405135e-02, 7.53162179e-02, 7.30619912e-02, 7.15090795e-02,\n",
       "       7.08578585e-02, 7.14589856e-02, 6.59987477e-02, 6.01127113e-02,\n",
       "       5.72824045e-02, 5.76831559e-02, 4.79899812e-02, 4.76393237e-02,\n",
       "       4.63619286e-02, 3.54414527e-02, 3.61177207e-02, 5.24733876e-02,\n",
       "       4.57858485e-02, 3.81214778e-02, 3.32874139e-02, 3.65184721e-02,\n",
       "       2.38447088e-02, 3.56793989e-02, 3.29117095e-02, 3.78710081e-02,\n",
       "       3.55416406e-02, 4.29555416e-02, 4.69129618e-02, 4.48841578e-02,\n",
       "       3.42892924e-02, 3.29367564e-02, 4.14527239e-02, 3.93237320e-02,\n",
       "       3.31872260e-02, 3.44395742e-02, 3.59924859e-02, 3.64433312e-02,\n",
       "       3.27113338e-02, 3.83469004e-02, 4.04758923e-02, 4.77395116e-02,\n",
       "       4.85159674e-02, 5.27489042e-02, 5.89104571e-02, 6.55103319e-02,\n",
       "       6.11145899e-02, 6.91045711e-02, 6.30932999e-02, 6.92798998e-02,\n",
       "       6.84283031e-02, 7.01314966e-02, 6.57983719e-02, 6.67752035e-02,\n",
       "       6.28678773e-02, 6.88290545e-02, 6.98309330e-02, 6.90043832e-02,\n",
       "       6.69755792e-02, 6.67251096e-02, 6.16656230e-02, 6.43706951e-02,\n",
       "       5.26236694e-02, 5.32498435e-02, 5.73575454e-02, 5.85347527e-02,\n",
       "       5.01189731e-02, 4.77645585e-02, 3.98998121e-02, 4.54101440e-02,\n",
       "       5.16217909e-02, 4.86662492e-02, 4.51095805e-02, 4.47088291e-02,\n",
       "       5.12711334e-02, 4.65623043e-02, 5.07451472e-02, 5.02442079e-02,\n",
       "       5.01189731e-02, 4.61865999e-02, 4.45084534e-02, 4.36819036e-02,\n",
       "       4.56355667e-02, 4.18284283e-02, 4.77144646e-02, 4.77395116e-02,\n",
       "       4.98434565e-02, 5.08202880e-02, 4.82654978e-02, 5.13713212e-02,\n",
       "       5.92110207e-02, 5.71070758e-02, 5.83844709e-02, 6.24921728e-02,\n",
       "       5.91609267e-02, 6.37695679e-02, 6.79774577e-02, 6.72761428e-02,\n",
       "       6.65497808e-02, 6.57983719e-02, 6.99812148e-02, 7.38634941e-02,\n",
       "       7.54414527e-02, 7.62179086e-02, 8.29555416e-02, 8.81152160e-02,\n",
       "       9.45021916e-02, 9.11709455e-02, 9.58547276e-02, 9.43268629e-02,\n",
       "       9.71822167e-02, 1.05973701e-01, 1.04295554e-01, 9.90607389e-02,\n",
       "       8.91922354e-02, 9.84596118e-02, 9.65810895e-02, 1.00087664e-01,\n",
       "       1.04495930e-01, 1.05572949e-01, 1.00012523e-01, 9.55291171e-02,\n",
       "       9.71822167e-02, 9.77332498e-02, 9.68816531e-02, 1.01490294e-01,\n",
       "       1.00463369e-01, 1.00738885e-01, 9.84345648e-02, 9.83093300e-02,\n",
       "       9.70820288e-02, 9.77332498e-02, 1.05322480e-01, 1.05848466e-01,\n",
       "       1.10907952e-01, 1.08578585e-01, 9.89855980e-02, 9.98371947e-02,\n",
       "       1.03569192e-01, 1.07376331e-01, 1.07150908e-01, 1.03994991e-01,\n",
       "       1.01941140e-01, 1.04596118e-01, 1.15917345e-01, 1.12686287e-01,\n",
       "       1.14389480e-01, 1.17244834e-01, 1.18872887e-01, 1.24859111e-01,\n",
       "       1.20901691e-01, 1.18296807e-01, 1.05522855e-01, 1.06975579e-01,\n",
       "       1.03393863e-01, 1.05673137e-01, 1.05072010e-01, 9.82341891e-02,\n",
       "       9.04195366e-02, 9.16468378e-02, 9.77082029e-02])"
      ]
     },
     "execution_count": 42,
     "metadata": {},
     "output_type": "execute_result"
    }
   ],
   "source": [
    "y_train"
   ]
  },
  {
   "cell_type": "code",
   "execution_count": 43,
   "metadata": {},
   "outputs": [
    {
     "data": {
      "text/plain": [
       "((715, 100), (715,))"
      ]
     },
     "execution_count": 43,
     "metadata": {},
     "output_type": "execute_result"
    }
   ],
   "source": [
    "X_train.shape, y_train.shape"
   ]
  },
  {
   "cell_type": "code",
   "execution_count": 45,
   "metadata": {},
   "outputs": [
    {
     "data": {
      "text/plain": [
       "((339, 100), (339,))"
      ]
     },
     "execution_count": 45,
     "metadata": {},
     "output_type": "execute_result"
    }
   ],
   "source": [
    "X_test.shape, y_test.shape"
   ]
  },
  {
   "cell_type": "code",
   "execution_count": 46,
   "metadata": {},
   "outputs": [],
   "source": [
    "X_train = X_train.reshape(X_train.shape[0], X_train.shape[1], 1)\n",
    "X_test = X_test.reshape(X_test.shape[0], X_test.shape[1], 1)"
   ]
  },
  {
   "cell_type": "markdown",
   "metadata": {},
   "source": [
    "## Create the Stacked LSTM Model"
   ]
  },
  {
   "cell_type": "code",
   "execution_count": 50,
   "metadata": {
    "scrolled": true
   },
   "outputs": [],
   "source": [
    "from tensorflow.keras.models import Sequential\n",
    "from tensorflow.keras.layers import Dense\n",
    "from tensorflow.keras.layers import LSTM"
   ]
  },
  {
   "cell_type": "code",
   "execution_count": 55,
   "metadata": {},
   "outputs": [],
   "source": [
    "model = Sequential()\n",
    "model.add(LSTM(50, return_sequences = True,input_shape= (100,1)))\n",
    "model.add(LSTM(50, return_sequences = True))\n",
    "model.add(LSTM(50))\n",
    "model.add(Dense(1))\n",
    "model.compile(loss = 'mean_squared_error', optimizer = 'adam')"
   ]
  },
  {
   "cell_type": "code",
   "execution_count": 57,
   "metadata": {},
   "outputs": [
    {
     "name": "stdout",
     "output_type": "stream",
     "text": [
      "Model: \"sequential_3\"\n",
      "_________________________________________________________________\n",
      " Layer (type)                Output Shape              Param #   \n",
      "=================================================================\n",
      " lstm_3 (LSTM)               (None, 100, 50)           10400     \n",
      "                                                                 \n",
      " lstm_4 (LSTM)               (None, 100, 50)           20200     \n",
      "                                                                 \n",
      " lstm_5 (LSTM)               (None, 50)                20200     \n",
      "                                                                 \n",
      " dense (Dense)               (None, 1)                 51        \n",
      "                                                                 \n",
      "=================================================================\n",
      "Total params: 50,851\n",
      "Trainable params: 50,851\n",
      "Non-trainable params: 0\n",
      "_________________________________________________________________\n"
     ]
    }
   ],
   "source": [
    "model.summary()"
   ]
  },
  {
   "cell_type": "code",
   "execution_count": 58,
   "metadata": {},
   "outputs": [
    {
     "name": "stdout",
     "output_type": "stream",
     "text": [
      "Epoch 1/100\n",
      "12/12 [==============================] - 4s 117ms/step - loss: 0.0352 - val_loss: 5.4229e-04\n",
      "Epoch 2/100\n",
      "12/12 [==============================] - 1s 61ms/step - loss: 0.0134 - val_loss: 5.6804e-04\n",
      "Epoch 3/100\n",
      "12/12 [==============================] - 1s 61ms/step - loss: 0.0090 - val_loss: 7.6773e-04\n",
      "Epoch 4/100\n",
      "12/12 [==============================] - 1s 62ms/step - loss: 0.0095 - val_loss: 5.8288e-04\n",
      "Epoch 5/100\n",
      "12/12 [==============================] - 1s 62ms/step - loss: 0.0084 - val_loss: 3.7798e-04\n",
      "Epoch 6/100\n",
      "12/12 [==============================] - 1s 64ms/step - loss: 0.0068 - val_loss: 3.0690e-04\n",
      "Epoch 7/100\n",
      "12/12 [==============================] - 1s 69ms/step - loss: 0.0070 - val_loss: 3.3757e-04\n",
      "Epoch 8/100\n",
      "12/12 [==============================] - 1s 80ms/step - loss: 0.0064 - val_loss: 3.8211e-04\n",
      "Epoch 9/100\n",
      "12/12 [==============================] - 1s 69ms/step - loss: 0.0058 - val_loss: 3.3668e-04\n",
      "Epoch 10/100\n",
      "12/12 [==============================] - 1s 67ms/step - loss: 0.0049 - val_loss: 4.6717e-04\n",
      "Epoch 11/100\n",
      "12/12 [==============================] - 1s 68ms/step - loss: 0.0047 - val_loss: 3.3202e-04\n",
      "Epoch 12/100\n",
      "12/12 [==============================] - 1s 66ms/step - loss: 0.0044 - val_loss: 2.5684e-04\n",
      "Epoch 13/100\n",
      "12/12 [==============================] - 1s 68ms/step - loss: 0.0044 - val_loss: 2.9902e-04\n",
      "Epoch 14/100\n",
      "12/12 [==============================] - 1s 67ms/step - loss: 0.0044 - val_loss: 2.4908e-04\n",
      "Epoch 15/100\n",
      "12/12 [==============================] - 1s 72ms/step - loss: 0.0038 - val_loss: 2.8018e-04\n",
      "Epoch 16/100\n",
      "12/12 [==============================] - 1s 69ms/step - loss: 0.0037 - val_loss: 3.8777e-04\n",
      "Epoch 17/100\n",
      "12/12 [==============================] - 1s 73ms/step - loss: 0.0032 - val_loss: 2.9385e-04\n",
      "Epoch 18/100\n",
      "12/12 [==============================] - 1s 68ms/step - loss: 0.0034 - val_loss: 2.2430e-04\n",
      "Epoch 19/100\n",
      "12/12 [==============================] - 1s 67ms/step - loss: 0.0033 - val_loss: 3.5396e-04\n",
      "Epoch 20/100\n",
      "12/12 [==============================] - 1s 68ms/step - loss: 0.0036 - val_loss: 5.4453e-04\n",
      "Epoch 21/100\n",
      "12/12 [==============================] - 1s 70ms/step - loss: 0.0034 - val_loss: 3.2773e-04\n",
      "Epoch 22/100\n",
      "12/12 [==============================] - 1s 68ms/step - loss: 0.0028 - val_loss: 2.4290e-04\n",
      "Epoch 23/100\n",
      "12/12 [==============================] - 1s 68ms/step - loss: 0.0027 - val_loss: 2.1354e-04\n",
      "Epoch 24/100\n",
      "12/12 [==============================] - 1s 70ms/step - loss: 0.0031 - val_loss: 2.2811e-04\n",
      "Epoch 25/100\n",
      "12/12 [==============================] - 1s 85ms/step - loss: 0.0038 - val_loss: 2.2071e-04\n",
      "Epoch 26/100\n",
      "12/12 [==============================] - 1s 70ms/step - loss: 0.0029 - val_loss: 2.9041e-04\n",
      "Epoch 27/100\n",
      "12/12 [==============================] - 1s 69ms/step - loss: 0.0025 - val_loss: 4.7231e-04\n",
      "Epoch 28/100\n",
      "12/12 [==============================] - 1s 68ms/step - loss: 0.0024 - val_loss: 2.2313e-04\n",
      "Epoch 29/100\n",
      "12/12 [==============================] - 1s 68ms/step - loss: 0.0022 - val_loss: 2.0449e-04\n",
      "Epoch 30/100\n",
      "12/12 [==============================] - 1s 68ms/step - loss: 0.0023 - val_loss: 3.5054e-04\n",
      "Epoch 31/100\n",
      "12/12 [==============================] - 1s 68ms/step - loss: 0.0023 - val_loss: 2.9833e-04\n",
      "Epoch 32/100\n",
      "12/12 [==============================] - 1s 68ms/step - loss: 0.0024 - val_loss: 2.6570e-04\n",
      "Epoch 33/100\n",
      "12/12 [==============================] - 1s 68ms/step - loss: 0.0024 - val_loss: 6.5794e-04\n",
      "Epoch 34/100\n",
      "12/12 [==============================] - 1s 68ms/step - loss: 0.0019 - val_loss: 2.1504e-04\n",
      "Epoch 35/100\n",
      "12/12 [==============================] - 1s 68ms/step - loss: 0.0021 - val_loss: 2.8196e-04\n",
      "Epoch 36/100\n",
      "12/12 [==============================] - 1s 83ms/step - loss: 0.0020 - val_loss: 2.4314e-04\n",
      "Epoch 37/100\n",
      "12/12 [==============================] - 1s 72ms/step - loss: 0.0024 - val_loss: 2.1237e-04\n",
      "Epoch 38/100\n",
      "12/12 [==============================] - 1s 67ms/step - loss: 0.0023 - val_loss: 2.2059e-04\n",
      "Epoch 39/100\n",
      "12/12 [==============================] - 1s 68ms/step - loss: 0.0023 - val_loss: 2.6267e-04\n",
      "Epoch 40/100\n",
      "12/12 [==============================] - 1s 68ms/step - loss: 0.0029 - val_loss: 5.4210e-04\n",
      "Epoch 41/100\n",
      "12/12 [==============================] - 1s 69ms/step - loss: 0.0023 - val_loss: 2.4645e-04\n",
      "Epoch 42/100\n",
      "12/12 [==============================] - 1s 66ms/step - loss: 0.0022 - val_loss: 3.7116e-04\n",
      "Epoch 43/100\n",
      "12/12 [==============================] - 1s 67ms/step - loss: 0.0020 - val_loss: 2.8987e-04\n",
      "Epoch 44/100\n",
      "12/12 [==============================] - 1s 68ms/step - loss: 0.0018 - val_loss: 2.1643e-04\n",
      "Epoch 45/100\n",
      "12/12 [==============================] - 1s 67ms/step - loss: 0.0016 - val_loss: 2.1287e-04\n",
      "Epoch 46/100\n",
      "12/12 [==============================] - 1s 70ms/step - loss: 0.0020 - val_loss: 2.3060e-04\n",
      "Epoch 47/100\n",
      "12/12 [==============================] - 1s 70ms/step - loss: 0.0021 - val_loss: 2.1413e-04\n",
      "Epoch 48/100\n",
      "12/12 [==============================] - 1s 67ms/step - loss: 0.0016 - val_loss: 2.1796e-04\n",
      "Epoch 49/100\n",
      "12/12 [==============================] - 1s 68ms/step - loss: 0.0021 - val_loss: 3.4627e-04\n",
      "Epoch 50/100\n",
      "12/12 [==============================] - 1s 67ms/step - loss: 0.0017 - val_loss: 2.1444e-04\n",
      "Epoch 51/100\n",
      "12/12 [==============================] - 1s 67ms/step - loss: 0.0034 - val_loss: 4.7167e-04\n",
      "Epoch 52/100\n",
      "12/12 [==============================] - 1s 67ms/step - loss: 0.0029 - val_loss: 2.3243e-04\n",
      "Epoch 53/100\n",
      "12/12 [==============================] - 1s 67ms/step - loss: 0.0020 - val_loss: 3.6501e-04\n",
      "Epoch 54/100\n",
      "12/12 [==============================] - 1s 68ms/step - loss: 0.0019 - val_loss: 2.3023e-04\n",
      "Epoch 55/100\n",
      "12/12 [==============================] - 1s 67ms/step - loss: 0.0016 - val_loss: 2.0184e-04\n",
      "Epoch 56/100\n",
      "12/12 [==============================] - 1s 68ms/step - loss: 0.0016 - val_loss: 2.6280e-04\n",
      "Epoch 57/100\n",
      "12/12 [==============================] - 1s 69ms/step - loss: 0.0021 - val_loss: 5.0122e-04\n",
      "Epoch 58/100\n",
      "12/12 [==============================] - 1s 68ms/step - loss: 0.0021 - val_loss: 2.3200e-04\n",
      "Epoch 59/100\n",
      "12/12 [==============================] - 1s 68ms/step - loss: 0.0015 - val_loss: 2.0302e-04\n",
      "Epoch 60/100\n",
      "12/12 [==============================] - 1s 69ms/step - loss: 0.0016 - val_loss: 2.0390e-04\n",
      "Epoch 61/100\n",
      "12/12 [==============================] - 1s 69ms/step - loss: 0.0017 - val_loss: 2.0542e-04\n",
      "Epoch 62/100\n",
      "12/12 [==============================] - 1s 69ms/step - loss: 0.0015 - val_loss: 2.0466e-04\n",
      "Epoch 63/100\n",
      "12/12 [==============================] - 1s 67ms/step - loss: 0.0026 - val_loss: 2.1363e-04\n",
      "Epoch 64/100\n",
      "12/12 [==============================] - 1s 67ms/step - loss: 0.0021 - val_loss: 3.2755e-04\n",
      "Epoch 65/100\n",
      "12/12 [==============================] - 1s 68ms/step - loss: 0.0016 - val_loss: 2.2907e-04\n",
      "Epoch 66/100\n",
      "12/12 [==============================] - 1s 68ms/step - loss: 0.0019 - val_loss: 2.5973e-04\n",
      "Epoch 67/100\n",
      "12/12 [==============================] - 1s 69ms/step - loss: 0.0015 - val_loss: 2.4080e-04\n",
      "Epoch 68/100\n",
      "12/12 [==============================] - 1s 68ms/step - loss: 0.0026 - val_loss: 6.7722e-04\n",
      "Epoch 69/100\n",
      "12/12 [==============================] - 1s 68ms/step - loss: 0.0026 - val_loss: 2.1463e-04\n",
      "Epoch 70/100\n",
      "12/12 [==============================] - 1s 68ms/step - loss: 0.0022 - val_loss: 3.6190e-04\n",
      "Epoch 71/100\n",
      "12/12 [==============================] - 1s 68ms/step - loss: 0.0022 - val_loss: 2.2763e-04\n",
      "Epoch 72/100\n",
      "12/12 [==============================] - 1s 68ms/step - loss: 0.0041 - val_loss: 5.0423e-04\n",
      "Epoch 73/100\n",
      "12/12 [==============================] - 1s 69ms/step - loss: 0.0043 - val_loss: 4.1557e-04\n",
      "Epoch 74/100\n",
      "12/12 [==============================] - 1s 68ms/step - loss: 0.0030 - val_loss: 6.4867e-04\n",
      "Epoch 75/100\n",
      "12/12 [==============================] - 1s 68ms/step - loss: 0.0025 - val_loss: 2.8417e-04\n",
      "Epoch 76/100\n",
      "12/12 [==============================] - 1s 68ms/step - loss: 0.0020 - val_loss: 2.2179e-04\n",
      "Epoch 77/100\n",
      "12/12 [==============================] - 1s 69ms/step - loss: 0.0017 - val_loss: 1.9650e-04\n",
      "Epoch 78/100\n",
      "12/12 [==============================] - 1s 68ms/step - loss: 0.0017 - val_loss: 1.8650e-04\n",
      "Epoch 79/100\n"
     ]
    },
    {
     "name": "stdout",
     "output_type": "stream",
     "text": [
      "12/12 [==============================] - 1s 68ms/step - loss: 0.0023 - val_loss: 2.2453e-04\n",
      "Epoch 80/100\n",
      "12/12 [==============================] - 1s 67ms/step - loss: 0.0045 - val_loss: 7.9149e-04\n",
      "Epoch 81/100\n",
      "12/12 [==============================] - 1s 67ms/step - loss: 0.0037 - val_loss: 2.4752e-04\n",
      "Epoch 82/100\n",
      "12/12 [==============================] - 1s 68ms/step - loss: 0.0035 - val_loss: 3.5197e-04\n",
      "Epoch 83/100\n",
      "12/12 [==============================] - 1s 68ms/step - loss: 0.0030 - val_loss: 1.9373e-04\n",
      "Epoch 84/100\n",
      "12/12 [==============================] - 1s 69ms/step - loss: 0.0031 - val_loss: 2.7388e-04\n",
      "Epoch 85/100\n",
      "12/12 [==============================] - 1s 69ms/step - loss: 0.0021 - val_loss: 2.0747e-04\n",
      "Epoch 86/100\n",
      "12/12 [==============================] - 1s 68ms/step - loss: 0.0020 - val_loss: 1.8553e-04\n",
      "Epoch 87/100\n",
      "12/12 [==============================] - 1s 70ms/step - loss: 0.0019 - val_loss: 2.5540e-04\n",
      "Epoch 88/100\n",
      "12/12 [==============================] - 1s 67ms/step - loss: 0.0017 - val_loss: 2.6679e-04\n",
      "Epoch 89/100\n",
      "12/12 [==============================] - 1s 68ms/step - loss: 0.0020 - val_loss: 1.7420e-04\n",
      "Epoch 90/100\n",
      "12/12 [==============================] - 1s 67ms/step - loss: 0.0020 - val_loss: 1.8648e-04\n",
      "Epoch 91/100\n",
      "12/12 [==============================] - 1s 70ms/step - loss: 0.0018 - val_loss: 2.0381e-04\n",
      "Epoch 92/100\n",
      "12/12 [==============================] - 1s 68ms/step - loss: 0.0015 - val_loss: 1.7718e-04\n",
      "Epoch 93/100\n",
      "12/12 [==============================] - 1s 67ms/step - loss: 0.0014 - val_loss: 1.8981e-04\n",
      "Epoch 94/100\n",
      "12/12 [==============================] - 1s 68ms/step - loss: 0.0017 - val_loss: 1.7991e-04\n",
      "Epoch 95/100\n",
      "12/12 [==============================] - 1s 69ms/step - loss: 0.0013 - val_loss: 2.3380e-04\n",
      "Epoch 96/100\n",
      "12/12 [==============================] - 1s 69ms/step - loss: 0.0013 - val_loss: 1.8310e-04\n",
      "Epoch 97/100\n",
      "12/12 [==============================] - 1s 68ms/step - loss: 0.0018 - val_loss: 2.1967e-04\n",
      "Epoch 98/100\n",
      "12/12 [==============================] - 1s 68ms/step - loss: 0.0017 - val_loss: 1.7108e-04\n",
      "Epoch 99/100\n",
      "12/12 [==============================] - 1s 68ms/step - loss: 0.0018 - val_loss: 1.7722e-04\n",
      "Epoch 100/100\n",
      "12/12 [==============================] - 1s 68ms/step - loss: 0.0017 - val_loss: 2.5283e-04\n"
     ]
    },
    {
     "data": {
      "text/plain": [
       "<keras.callbacks.History at 0x7f8642db8510>"
      ]
     },
     "execution_count": 58,
     "metadata": {},
     "output_type": "execute_result"
    }
   ],
   "source": [
    "model.fit(X_train, y_train, validation_data=(X_test,y_test), epochs = 100, batch_size = 64, verbose =1) "
   ]
  },
  {
   "cell_type": "code",
   "execution_count": 60,
   "metadata": {},
   "outputs": [
    {
     "name": "stdout",
     "output_type": "stream",
     "text": [
      "23/23 [==============================] - 1s 16ms/step\n",
      "11/11 [==============================] - 0s 16ms/step\n"
     ]
    }
   ],
   "source": [
    "train_predict = model.predict(X_train)\n",
    "test_predict = model.predict(X_test)"
   ]
  },
  {
   "cell_type": "code",
   "execution_count": 61,
   "metadata": {},
   "outputs": [],
   "source": [
    "train_predict = scaler.inverse_transform(train_predict)\n",
    "test_predict = scaler.inverse_transform(test_predict)"
   ]
  },
  {
   "cell_type": "code",
   "execution_count": 62,
   "metadata": {},
   "outputs": [
    {
     "data": {
      "text/plain": [
       "219.9140711875163"
      ]
     },
     "execution_count": 62,
     "metadata": {},
     "output_type": "execute_result"
    }
   ],
   "source": [
    "import math\n",
    "from sklearn.metrics import mean_squared_error\n",
    "math.sqrt(mean_squared_error(y_train, train_predict))"
   ]
  },
  {
   "cell_type": "code",
   "execution_count": 63,
   "metadata": {},
   "outputs": [
    {
     "data": {
      "text/plain": [
       "151.6893349342959"
      ]
     },
     "execution_count": 63,
     "metadata": {},
     "output_type": "execute_result"
    }
   ],
   "source": [
    "math.sqrt(mean_squared_error(y_test, test_predict))"
   ]
  },
  {
   "cell_type": "code",
   "execution_count": 67,
   "metadata": {},
   "outputs": [
    {
     "data": {
      "image/png": "[encoded data removed]",
      "text/plain": [
       "<Figure size 432x288 with 1 Axes>"
      ]
     },
     "metadata": {
      "needs_background": "light"
     },
     "output_type": "display_data"
    }
   ],
   "source": [
    "#Plotting\n",
    "look_back = 100\n",
    "trainPredictPlot = np.empty_like(df1)\n",
    "trainPredictPlot[:,:] = np.nan\n",
    "trainPredictPlot[look_back:len(train_predict)+look_back, : ] = train_predict\n",
    "\n",
    "testPredictPlot = np.empty_like(df1)\n",
    "testPredictPlot[:,:] = np.nan\n",
    "testPredictPlot[len(train_predict)+(look_back*2)+1:len(df1)-1,:] = test_predict\n",
    "\n",
    "plt.plot(scaler.inverse_transform(df1))\n",
    "plt.plot(trainPredictPlot)\n",
    "plt.plot(testPredictPlot)\n",
    "plt.show()"
   ]
  },
  {
   "cell_type": "markdown",
   "metadata": {},
   "source": [
    "## Predict the future 30 days"
   ]
  },
  {
   "cell_type": "code",
   "execution_count": 68,
   "metadata": {},
   "outputs": [
    {
     "data": {
      "text/plain": [
       "440"
      ]
     },
     "execution_count": 68,
     "metadata": {},
     "output_type": "execute_result"
    }
   ],
   "source": [
    "len(test_data)"
   ]
  },
  {
   "cell_type": "code",
   "execution_count": 70,
   "metadata": {},
   "outputs": [
    {
     "data": {
      "text/plain": [
       "(1, 100)"
      ]
     },
     "execution_count": 70,
     "metadata": {},
     "output_type": "execute_result"
    }
   ],
   "source": [
    "x_input = test_data[340:].reshape(1,-1)\n",
    "x_input.shape"
   ]
  },
  {
   "cell_type": "code",
   "execution_count": 74,
   "metadata": {},
   "outputs": [],
   "source": [
    "temp_input= list(x_input)\n",
    "temp_input = temp_input[0].tolist()"
   ]
  },
  {
   "cell_type": "code",
   "execution_count": 75,
   "metadata": {},
   "outputs": [
    {
     "data": {
      "text/plain": [
       "[0.09665623043206006,\n",
       " 0.11015654351909826,\n",
       " 0.11937382592360674,\n",
       " 0.1124358171571696,\n",
       " 0.11974953036944269,\n",
       " 0.11291170945522849,\n",
       " 0.11028177833437691,\n",
       " 0.1106324358171571,\n",
       " 0.11774577332498432,\n",
       " 0.11611772072636184,\n",
       " 0.12145272385723233,\n",
       " 0.11739511584220413,\n",
       " 0.11448966812773947,\n",
       " 0.10429555416405756,\n",
       " 0.10537257357545393,\n",
       " 0.10659987476518468,\n",
       " 0.09986224170319347,\n",
       " 0.10289292423293667,\n",
       " 0.10161552911709448,\n",
       " 0.09635566687539132,\n",
       " 0.09785848465873509,\n",
       " 0.11068252974326859,\n",
       " 0.11769567939887288,\n",
       " 0.11211020663744514,\n",
       " 0.11529117094552283,\n",
       " 0.1095804633688165,\n",
       " 0.10434564809016905,\n",
       " 0.10927989981214775,\n",
       " 0.11458985597996241,\n",
       " 0.11559173450219157,\n",
       " 0.12275516593613017,\n",
       " 0.1206261740763932,\n",
       " 0.12663744520976827,\n",
       " 0.13134627426424544,\n",
       " 0.12771446462116465,\n",
       " 0.13046963055729488,\n",
       " 0.13377582968065116,\n",
       " 0.12884157795867246,\n",
       " 0.12726361928616153,\n",
       " 0.13507827175954912,\n",
       " 0.13906073888541015,\n",
       " 0.1454226675015654,\n",
       " 0.14860363180964303,\n",
       " 0.14725109580463364,\n",
       " 0.14256731371321218,\n",
       " 0.14482154038822787,\n",
       " 0.13823418910457103,\n",
       " 0.13515341264871633,\n",
       " 0.1334001252348152,\n",
       " 0.14707576706324355,\n",
       " 0.14619912335629304,\n",
       " 0.14624921728240442,\n",
       " 0.14935504070131495,\n",
       " 0.15226048841577955,\n",
       " 0.14980588603631806,\n",
       " 0.14572323105823415,\n",
       " 0.14649968691296178,\n",
       " 0.14259236067626796,\n",
       " 0.14256731371321218,\n",
       " 0.15421415153412643,\n",
       " 0.15739511584220411,\n",
       " 0.15716969317470253,\n",
       " 0.1545397620538509,\n",
       " 0.15180964308077638,\n",
       " 0.1476518472135253,\n",
       " 0.16713838447088286,\n",
       " 0.16696305572949277,\n",
       " 0.16262993112085156,\n",
       " 0.16710081402629928,\n",
       " 0.16758922980588598,\n",
       " 0.16463368816530988,\n",
       " 0.1633813400125234,\n",
       " 0.1633813400125234,\n",
       " 0.16493425172197868,\n",
       " 0.17084533500313087,\n",
       " 0.17112085159674384,\n",
       " 0.1687163431433938,\n",
       " 0.16210394489668123,\n",
       " 0.16280525986224165,\n",
       " 0.1656856606136506,\n",
       " 0.17179711959924854,\n",
       " 0.17648090169067,\n",
       " 0.17635566687539134,\n",
       " 0.1834690043832185,\n",
       " 0.1856230432060112,\n",
       " 0.18219160926737632,\n",
       " 0.18126487163431432,\n",
       " 0.1777833437695679,\n",
       " 0.18467125860989347,\n",
       " 0.18564809016906697,\n",
       " 0.19273638071383836,\n",
       " 0.1915341264871634,\n",
       " 0.19313713212273004,\n",
       " 0.19829680651221032,\n",
       " 0.1955666875391358,\n",
       " 0.1957921102066374,\n",
       " 0.1931621790857858,\n",
       " 0.2007764558547276,\n",
       " 0.19997495303694424,\n",
       " 0.19644333124608637]"
      ]
     },
     "execution_count": 75,
     "metadata": {},
     "output_type": "execute_result"
    }
   ],
   "source": [
    "temp_input"
   ]
  },
  {
   "cell_type": "code",
   "execution_count": 76,
   "metadata": {},
   "outputs": [],
   "source": [
    "lst_output = []\n",
    "n_steps=100\n",
    "i=0\n",
    "while(i<30):\n",
    "    if(len(temp_input)>100):\n",
    "        x_input=np.array(temp_input[1:])\n",
    "        x_input = x_input.reshape((1, n_steps, 1))\n",
    "        yhat=model.predict(x_input, verbose=0)\n",
    "        temp_input.extend(yhat[0].tolist())\n",
    "        temp_input = temp_input[1:]\n",
    "        lst_output.extend(yhat.tolist())\n",
    "        i = i+1\n",
    "    else:\n",
    "        x_input = x_input.reshape((1, n_steps,1))\n",
    "        yhat = model.predict(x_input, verbose =0)\n",
    "        temp_input.extend(yhat[0].tolist())\n",
    "        lst_output.extend(yhat.tolist())\n",
    "        i = i+1\n",
    "        "
   ]
  },
  {
   "cell_type": "code",
   "execution_count": 81,
   "metadata": {},
   "outputs": [
    {
     "data": {
      "text/plain": [
       "30"
      ]
     },
     "execution_count": 81,
     "metadata": {},
     "output_type": "execute_result"
    }
   ],
   "source": []
  },
  {
   "cell_type": "code",
   "execution_count": 78,
   "metadata": {},
   "outputs": [],
   "source": [
    "day_new = np.arange(1, 101)\n",
    "day_pred = np.arange(101, 131)"
   ]
  },
  {
   "cell_type": "code",
   "execution_count": 79,
   "metadata": {},
   "outputs": [],
   "source": [
    "df3 = df1.tolist()\n",
    "df3.extend(lst_output)"
   ]
  },
  {
   "cell_type": "code",
   "execution_count": 82,
   "metadata": {},
   "outputs": [
    {
     "data": {
      "text/plain": [
       "[<matplotlib.lines.Line2D at 0x7f8605adcd10>]"
      ]
     },
     "execution_count": 82,
     "metadata": {},
     "output_type": "execute_result"
    },
    {
     "data": {
      "image/png": "[encoded data removed]",
      "text/plain": [
       "<Figure size 432x288 with 1 Axes>"
      ]
     },
     "metadata": {
      "needs_background": "light"
     },
     "output_type": "display_data"
    }
   ],
   "source": [
    "plt.plot(day_new, scaler.inverse_transform(df1[1156:]))\n",
    "plt.plot(day_pred,scaler.inverse_transform(lst_output))"
   ]
  }
 ],
 "metadata": {
  "kernelspec": {
   "display_name": "Python 3 (ipykernel)",
   "language": "python",
   "name": "python3"
  },
  "language_info": {
   "codemirror_mode": {
    "name": "ipython",
    "version": 3
   },
   "file_extension": ".py",
   "mimetype": "text/x-python",
   "name": "python",
   "nbconvert_exporter": "python",
   "pygments_lexer": "ipython3",
   "version": "3.7.15"
  }
 },
 "nbformat": 4,
 "nbformat_minor": 2
}
